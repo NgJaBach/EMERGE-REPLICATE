{
 "cells": [
  {
   "cell_type": "code",
   "execution_count": 1,
   "metadata": {},
   "outputs": [
    {
     "name": "stderr",
     "output_type": "stream",
     "text": [
      "d:\\Lab\\Research\\EMERGE-REPLICATE\\.venv\\Lib\\site-packages\\tqdm\\auto.py:21: TqdmWarning: IProgress not found. Please update jupyter and ipywidgets. See https://ipywidgets.readthedocs.io/en/stable/user_install.html\n",
      "  from .autonotebook import tqdm as notebook_tqdm\n",
      "Fetching 30 files: 100%|██████████| 30/30 [00:00<?, ?it/s]\n",
      "Some weights of LongformerModel were not initialized from the model checkpoint at yikuan8/Clinical-Longformer and are newly initialized: ['pooler.dense.bias', 'pooler.dense.weight']\n",
      "You should probably TRAIN this model on a down-stream task to be able to use it for predictions and inference.\n"
     ]
    },
    {
     "name": "stdout",
     "output_type": "stream",
     "text": [
      "cuda available: True\n",
      "model device: cuda:0\n"
     ]
    }
   ],
   "source": [
    "# Lightning\n",
    "import lightning as L\n",
    "from lightning.pytorch.callbacks import EarlyStopping, ModelCheckpoint\n",
    "from lightning.pytorch.loggers import CSVLogger\n",
    "\n",
    "# PyTorch\n",
    "import torch\n",
    "import torch.nn.functional as F\n",
    "from torch import nn\n",
    "from torch.utils.data import Dataset, DataLoader\n",
    "\n",
    "# Data Processing\n",
    "import pandas as pd\n",
    "import numpy as np\n",
    "import h5py\n",
    "import csv\n",
    "\n",
    "# Standard Library\n",
    "import os\n",
    "\n",
    "# Custom Utilities\n",
    "from models.transformer import Transformer\n",
    "from utils.evaluation_toolkit import get_all_metrics, run_bootstrap, check_metric_is_better, plot_prediction_correctness_by_label\n",
    "from utils.constants import *"
   ]
  },
  {
   "cell_type": "code",
   "execution_count": 2,
   "metadata": {},
   "outputs": [],
   "source": [
    "def load_from_hdf5(filename):\n",
    "    data = []\n",
    "    with h5py.File(filename, 'r') as f:\n",
    "        for key in f.keys():\n",
    "            entry = {}\n",
    "            grp = f[key]\n",
    "            for k in grp.keys():\n",
    "                entry[k] = grp[k][()]\n",
    "            data.append(entry)\n",
    "    return data\n",
    "\n",
    "class EhrDataset(Dataset):\n",
    "    def __init__(self, data_path, mode='train'):\n",
    "        super().__init__()\n",
    "        self.data = load_from_hdf5(f\"{data_path}/{mode}.h5\")\n",
    "\n",
    "    def __len__(self):\n",
    "        return len(self.data) # number of patients\n",
    "\n",
    "    def __getitem__(self, index):\n",
    "        pid = self.data[index]['PatientID']\n",
    "        x_ehr = torch.tensor(self.data[index]['X']) # preprocessed data\n",
    "        x_note = torch.tensor(self.data[index]['Note']) # embedding\n",
    "        # x_summary = torch.tensor(self.data[index]['Summary']) # embedding\n",
    "        x_summary = x_note\n",
    "        y = torch.tensor(self.data[index]['Y'])\n",
    "\n",
    "        # print(x_ehr.shape, x_note.shape, x_summary.shape, y.shape)\n",
    "        y_outcome = y[0]\n",
    "        y_readmission = y[1]\n",
    "        \n",
    "        return pid, x_ehr.float(), x_note.float(), x_summary.float(), y_outcome.float(), y_readmission.float()\n",
    "\n",
    "\n",
    "class EhrDataModule(L.LightningDataModule):\n",
    "    def __init__(self, data_path, batch_size):\n",
    "        super().__init__()\n",
    "        self.data_path = data_path\n",
    "        self.batch_size = batch_size\n",
    "        self.train_dataset = EhrDataset(self.data_path, mode=\"train\")\n",
    "        self.val_dataset = EhrDataset(self.data_path, mode='val')\n",
    "        self.test_dataset = EhrDataset(self.data_path, mode='test')\n",
    "\n",
    "    def train_dataloader(self):\n",
    "        return DataLoader(self.train_dataset, batch_size=self.batch_size, shuffle=True, num_workers=0)\n",
    "\n",
    "    def val_dataloader(self):\n",
    "        return DataLoader(self.val_dataset, batch_size=self.batch_size, shuffle=False, num_workers=0)\n",
    "\n",
    "    def test_dataloader(self):\n",
    "        return DataLoader(self.test_dataset, batch_size=self.batch_size, shuffle=False, num_workers=0)"
   ]
  },
  {
   "cell_type": "code",
   "execution_count": 3,
   "metadata": {},
   "outputs": [],
   "source": [
    "class EhrEncoder(nn.Module):\n",
    "    def __init__(self, input_dim, hidden_dim, ehr_net='gru'):\n",
    "        super().__init__()\n",
    "        self.ehr_net = ehr_net\n",
    "        if ehr_net == 'lstm':\n",
    "            self.encoder = nn.LSTM(input_size=input_dim, hidden_size=hidden_dim, num_layers=1, batch_first=True)\n",
    "        elif ehr_net == 'gru':\n",
    "            self.encoder = nn.GRU(input_size=input_dim, hidden_size=hidden_dim, num_layers=1, batch_first=True)\n",
    "        elif ehr_net == 'rnn':\n",
    "            self.encoder= nn.RNN(input_size=input_dim, hidden_size=hidden_dim, num_layers=1, batch_first=True)\n",
    "        elif ehr_net == 'transformer':\n",
    "            self.encoder = Transformer(input_dim=input_dim, hidden_dim=hidden_dim)\n",
    "        else:\n",
    "            raise ValueError(f\"Invalid EHR network type: {ehr_net}\")\n",
    "\n",
    "    def forward(self, x):\n",
    "        if self.ehr_net in [\"lstm\", \"gru\", \"rnn\"]:\n",
    "            output, _ = self.encoder(x)\n",
    "            output = output[:, -1, :]\n",
    "        elif self.ehr_net == 'transformer':\n",
    "            output = self.encoder(x)\n",
    "        return output"
   ]
  },
  {
   "cell_type": "code",
   "execution_count": 4,
   "metadata": {},
   "outputs": [],
   "source": [
    "class FusionNetwork(nn.Module):\n",
    "    def __init__(self, hidden_dim, num_heads):\n",
    "        super().__init__()\n",
    "        self.attention1 = nn.MultiheadAttention(embed_dim=hidden_dim, num_heads=num_heads, batch_first=True)\n",
    "        self.attention2 = nn.MultiheadAttention(embed_dim=hidden_dim, num_heads=num_heads, batch_first=True)\n",
    "        self.out_proj = nn.Linear(2 * hidden_dim, hidden_dim)\n",
    "\n",
    "    def forward(self, modality_1, modality_2):\n",
    "        # Apply cross attention: modality_1 as context for modality_2\n",
    "        attn_output_1, attn_output_weights_1 = self.attention1(query=modality_2, key=modality_1, value=modality_1)\n",
    "        # Apply cross attention: modality_2 as context for modality_1\n",
    "        attn_output_2, attn_output_weights_2 = self.attention2(query=modality_1, key=modality_2, value=modality_2)\n",
    "        \n",
    "        # Concatenate attention outputs along the sequence length dimension\n",
    "        combined_output = torch.cat((attn_output_1, attn_output_2), dim=-1).squeeze(dim=1) # [B, T, 2 * hidden_dim]\n",
    "        \n",
    "        # Apply attention-based adaptive pooling\n",
    "        pooled_context_vector = self.out_proj(combined_output) # [B, hidden_dim]\n",
    "\n",
    "        return pooled_context_vector\n",
    "\n",
    "class MAGGate(nn.Module):\n",
    "    def __init__(self, hidden_dim, drop=0.0):\n",
    "        super().__init__()\n",
    "        self.fc1 = nn.Linear(hidden_dim * 2, 1)\n",
    "        self.fc3 = nn.Linear(hidden_dim, hidden_dim)\n",
    "        self.beta = nn.Parameter(torch.randn((1,)))\n",
    "        self.norm = nn.LayerNorm(hidden_dim)\n",
    "        self.dropout = nn.Dropout(drop)\n",
    "\n",
    "    def forward(self, inp1, inp2):\n",
    "        w2 = torch.sigmoid(self.fc1(torch.cat([inp1, inp2], -1)))\n",
    "        adjust = self.fc3(w2 * inp2)\n",
    "        one = torch.tensor(1).type_as(adjust)\n",
    "        alpha = torch.min(torch.norm(inp1) / torch.norm(adjust) * self.beta, one)\n",
    "        output = inp1 + alpha * adjust\n",
    "        output = self.dropout(self.norm(output))\n",
    "        return output\n",
    "    \n",
    "    \n",
    "class Outer(nn.Module):\n",
    "    def __init__(self, hidden_dim):\n",
    "        super().__init__()\n",
    "        self.hidden_dim = hidden_dim\n",
    "        self.ff_net = nn.Sequential(\n",
    "            nn.Linear((hidden_dim + 1) * (hidden_dim + 1), hidden_dim),\n",
    "            nn.GELU(),\n",
    "            nn.Linear(hidden_dim, hidden_dim),\n",
    "            nn.GELU(),\n",
    "        )\n",
    "\n",
    "    def forward(self, inp1, inp2):\n",
    "        B = inp1.size(0)\n",
    "        append = torch.ones((B, 1)).type_as(inp1)\n",
    "        inp1 = torch.cat([inp1, append], dim=-1)\n",
    "        inp2 = torch.cat([inp2, append], dim=-1)\n",
    "        fusion = torch.zeros((B, self.hidden_dim + 1, self.hidden_dim + 1)).type_as(inp1)\n",
    "        for i in range(B):\n",
    "            fusion[i] = torch.outer(inp1[i], inp2[i])\n",
    "        return self.ff_net(fusion.flatten(1))\n",
    "\n",
    "\n",
    "class Concatenation(nn.Module):\n",
    "    def __init__(self, hidden_dim):\n",
    "        super().__init__()\n",
    "        self.hidden_dim = hidden_dim\n",
    "        self.net = nn.Sequential(\n",
    "            nn.Linear(hidden_dim * 2, hidden_dim),\n",
    "            nn.GELU(),\n",
    "        )\n",
    "\n",
    "    def forward(self, inp1, inp2):\n",
    "        return self.net(torch.cat([inp1, inp2], dim=-1))\n",
    "\n",
    "\n",
    "class EMERGE(nn.Module):\n",
    "    def __init__(self, input_ehr_dim, input_note_dim, input_summary_dim, hidden_dim, ehr_net='gru', text_fusion='concat', modality_fusion='ours', num_heads=4, use_modality='ehr_note_summary'): # [ehr_only, note_only, summary_only, ehr_note, ehr_summary, note_summary, ehr_note_summary]\n",
    "        super().__init__()\n",
    "        self.text_fusion = text_fusion\n",
    "        self.modality_fusion = modality_fusion\n",
    "        self.use_modality = use_modality\n",
    "\n",
    "        self.ehr_encoder = EhrEncoder(input_dim=input_ehr_dim, hidden_dim=hidden_dim, ehr_net=ehr_net)\n",
    "        self.note_embedding_proj = nn.Linear(input_note_dim, hidden_dim)\n",
    "        self.summary_embedding_proj = nn.Linear(input_summary_dim, hidden_dim)\n",
    "\n",
    "        # for text fusion\n",
    "        self.concat_text_fusion_proj = nn.Linear(hidden_dim * 2, hidden_dim)\n",
    "        self.adaptive_text_fusion_param = nn.Parameter(torch.tensor(0.5))\n",
    "        self.mag_gate_text_fusion = MAGGate(hidden_dim)\n",
    "\n",
    "        # for modality fusion\n",
    "        if modality_fusion == 'ours':\n",
    "            self.fusion_module = FusionNetwork(hidden_dim, num_heads)    \n",
    "        elif modality_fusion == 'mag':\n",
    "            self.fusion_module = MAGGate(hidden_dim)\n",
    "        elif modality_fusion == 'concat':\n",
    "            self.fusion_module = Concatenation(hidden_dim)\n",
    "            \n",
    "        elif modality_fusion == 'tf':\n",
    "            self.fusion_module = Outer(hidden_dim)\n",
    "        \n",
    "    def forward(self, x_ehr, x_note_embedding, x_summary_embedding):\n",
    "        # Process EHR data\n",
    "        ehr_embedding = self.ehr_encoder(x_ehr) # Shape: [B, hidden_dim]\n",
    "\n",
    "        # Project text embeddings to the same dimension\n",
    "        note_embedding_projected = self.note_embedding_proj(x_note_embedding)\n",
    "        summary_embedding_projected = self.summary_embedding_proj(x_summary_embedding)\n",
    "\n",
    "        ###########################\n",
    "        if self.text_fusion == 'note_only':\n",
    "            text_embedding = note_embedding_projected\n",
    "        elif self.text_fusion == 'summary_only':\n",
    "            text_embedding = summary_embedding_projected\n",
    "        elif self.text_fusion == 'add':\n",
    "            text_embedding = note_embedding_projected + summary_embedding_projected\n",
    "        elif self.text_fusion == 'concat':\n",
    "            text_embedding = torch.cat([note_embedding_projected, summary_embedding_projected], dim=-1)\n",
    "            text_embedding = self.concat_text_fusion_proj(text_embedding)\n",
    "        elif self.text_fusion == 'adaptive':\n",
    "            text_embedding = self.adaptive_text_fusion_param * note_embedding_projected + (1 - self.adaptive_text_fusion_param) * summary_embedding_projected\n",
    "        elif self.text_fusion == 'mag':\n",
    "            text_embedding = self.mag_gate_text_fusion(note_embedding_projected, summary_embedding_projected) # Shape: [B, hidden_dim]\n",
    "\n",
    "        # Apply modality fusion\n",
    "        if self.modality_fusion == 'ours':\n",
    "            fused_embed = self.fusion_module(ehr_embedding.unsqueeze(dim=1), text_embedding.unsqueeze(dim=1))\n",
    "        else:\n",
    "            fused_embed = self.fusion_module(ehr_embedding, text_embedding)\n",
    "        \n",
    "        # according to use_modality\n",
    "        if self.use_modality == 'ehr_note_summary':\n",
    "            return fused_embed\n",
    "        elif self.use_modality == 'ehr_only':\n",
    "            return ehr_embedding\n",
    "        elif self.use_modality == 'note_only':\n",
    "            return note_embedding_projected\n",
    "        elif self.use_modality == 'summary_only':\n",
    "            return summary_embedding_projected\n",
    "        elif self.use_modality == 'ehr_note':\n",
    "            return fused_embed\n",
    "        elif self.use_modality == 'ehr_summary':\n",
    "            return fused_embed\n",
    "        elif self.use_modality == 'note_summary':\n",
    "            return text_embedding\n",
    "        else:\n",
    "            raise ValueError(f\"Invalid use_modality: {self.use_modality}\")"
   ]
  },
  {
   "cell_type": "code",
   "execution_count": 5,
   "metadata": {},
   "outputs": [],
   "source": [
    "class MultitaskHead(nn.Module):\n",
    "    def __init__(self, hidden_dim, output_dim, act_layer=nn.GELU, drop=0.25):\n",
    "        super(MultitaskHead, self).__init__()\n",
    "        self.hidden_dim = (hidden_dim,)\n",
    "        self.output_dim = (output_dim,)\n",
    "        self.act = act_layer()\n",
    "        self.outcome_task_head = nn.Sequential(\n",
    "            nn.Linear(hidden_dim, hidden_dim),\n",
    "            nn.Dropout(drop),\n",
    "            nn.Linear(hidden_dim, output_dim),\n",
    "            nn.Sigmoid(),\n",
    "        )\n",
    "        self.readmission_task_head = nn.Sequential(\n",
    "            nn.Linear(hidden_dim, hidden_dim),\n",
    "            nn.Dropout(drop),\n",
    "            nn.Linear(hidden_dim, output_dim),\n",
    "            nn.Sigmoid(),\n",
    "        )\n",
    "\n",
    "    def forward(self, x):\n",
    "        x = self.act(x)\n",
    "        outcome = self.outcome_task_head(x)\n",
    "        readmission = self.readmission_task_head(x)\n",
    "        return torch.cat([outcome, readmission], dim=1)\n",
    "\n",
    "class MultitaskLoss(nn.Module):\n",
    "    def __init__(self, task_num=2, focus_task='multitask'):\n",
    "        super(MultitaskLoss, self).__init__()\n",
    "        self.task_num = task_num\n",
    "        self.focus_task=focus_task\n",
    "        self.alpha = nn.Parameter(torch.ones((task_num)))\n",
    "        self.bce0 = nn.BCELoss()\n",
    "        self.bce1 = nn.BCELoss()\n",
    "\n",
    "    def forward(self, outcome_pred, readmission_pred, outcome_true, readmission_true):\n",
    "        loss0 = self.bce0(outcome_pred, outcome_true)\n",
    "        loss1 = self.bce1(readmission_pred, readmission_true)\n",
    "        if self.focus_task == \"outcome\":\n",
    "            return loss0\n",
    "        if self.focus_task == \"readmission\":\n",
    "            return loss1\n",
    "        return loss0 * self.alpha[0] + loss1 * self.alpha[1]"
   ]
  },
  {
   "cell_type": "code",
   "execution_count": 6,
   "metadata": {},
   "outputs": [],
   "source": [
    "class Pipeline(L.LightningModule):\n",
    "    def __init__(self, config):\n",
    "        super().__init__()\n",
    "        self.hidden_dim = config[\"hidden_dim\"]\n",
    "        self.learning_rate = config[\"learning_rate\"]\n",
    "        self.input_ehr_dim = config[\"input_ehr_dim\"]\n",
    "        self.input_note_dim = config[\"input_note_dim\"]\n",
    "        self.input_summary_dim = config[\"input_summary_dim\"]\n",
    "        self.focus_task = config[\"focus_task\"]\n",
    "        self.text_fusion = config[\"text_fusion\"]\n",
    "        self.modality_fusion = config[\"modality_fusion\"]\n",
    "        self.use_modality = config[\"use_modality\"]\n",
    "        self.ehr_net = config[\"ehr_net\"]\n",
    "        self.output_dim = 1\n",
    "\n",
    "        self.model = EMERGE(input_ehr_dim=self.input_ehr_dim, input_note_dim=self.input_note_dim, input_summary_dim=self.input_summary_dim, hidden_dim=self.hidden_dim, ehr_net=self.ehr_net, text_fusion=self.text_fusion, modality_fusion=self.modality_fusion, use_modality=self.use_modality)\n",
    "        self.head = MultitaskHead(self.hidden_dim, self.output_dim)\n",
    "        self.loss_fn = MultitaskLoss(task_num=2, focus_task=self.focus_task)\n",
    "\n",
    "        self.cur_best_performance = {} # val set\n",
    "        self.test_performance = {} # test set\n",
    "\n",
    "        self.validation_step_outputs = []\n",
    "        self.test_step_outputs = []\n",
    "        self.test_outputs = {}\n",
    "\n",
    "\n",
    "    def forward(self, batch):\n",
    "        pid, x_ehr, x_note, x_summary, y_outcome, y_readmission = batch\n",
    "        embedding = self.model(x_ehr, x_note, x_summary).to(x_ehr.device)\n",
    "        y_hat = self.head(embedding)\n",
    "        return y_hat\n",
    "\n",
    "    def _get_loss(self, batch):\n",
    "        pid, x_ehr, x_note, x_summary, y_outcome, y_readmission = batch\n",
    "        y_hat = self(batch)\n",
    "        loss = self.loss_fn(y_hat[:,0], y_hat[:,1], y_outcome, y_readmission)\n",
    "        return loss, y_hat\n",
    "\n",
    "    def training_step(self, batch, batch_idx):\n",
    "        loss, y_hat = self._get_loss(batch)\n",
    "        # self.log(\"train_loss\", loss)\n",
    "        return loss\n",
    "\n",
    "    def validation_step(self, batch, batch_idx):\n",
    "        pid, x_ehr, x_note, x_summary, y_outcome, y_readmission = batch\n",
    "        loss, y_hat = self._get_loss(batch)\n",
    "        # self.log(\"val_loss\", loss)\n",
    "        outs = {'y_outcome_pred': y_hat[:,0], 'y_readmission_pred': y_hat[:,1], 'y_outcome_true': y_outcome, 'y_readmission_true': y_readmission, 'val_loss': loss}\n",
    "        self.validation_step_outputs.append(outs)\n",
    "        return loss\n",
    "\n",
    "    def on_validation_epoch_end(self):\n",
    "        y_outcome_pred = torch.cat([x['y_outcome_pred'] for x in self.validation_step_outputs]).detach().cpu()\n",
    "        y_readmission_pred = torch.cat([x['y_readmission_pred'] for x in self.validation_step_outputs]).detach().cpu()\n",
    "        y_outcome_true = torch.cat([x['y_outcome_true'] for x in self.validation_step_outputs]).detach().cpu()\n",
    "        y_readmission_true = torch.cat([x['y_readmission_true'] for x in self.validation_step_outputs]).detach().cpu()\n",
    "        loss = torch.stack([x['val_loss'] for x in self.validation_step_outputs]).mean().detach().cpu()\n",
    "        # self.log(\"val_loss_epoch\", loss)\n",
    "\n",
    "        metrics = get_all_metrics(y_outcome_pred, y_readmission_pred, y_outcome_true, y_readmission_true)\n",
    "        for k, v in metrics.items(): self.log(k, v)\n",
    "\n",
    "        main_metric = \"outcome_auroc\" if self.focus_task in [\"outcome\", \"multitask\"] else \"readmission_auroc\"\n",
    "        main_score = metrics[main_metric]\n",
    "        if check_metric_is_better(self.cur_best_performance, main_score, main_metric):\n",
    "            self.cur_best_performance = metrics\n",
    "            for k, v in metrics.items(): self.log(\"best_\"+k, v)\n",
    "        self.validation_step_outputs.clear()\n",
    "        return main_score\n",
    "\n",
    "    def test_step(self, batch, batch_idx):\n",
    "        pid, x_ehr, x_note, x_summary, y_outcome, y_readmission = batch\n",
    "        loss, y_hat = self._get_loss(batch)\n",
    "        # self.log(\"test_loss\", loss)\n",
    "        outs = {'y_outcome_pred': y_hat[:,0], 'y_readmission_pred': y_hat[:,1], 'y_outcome_true': y_outcome, 'y_readmission_true': y_readmission, 'test_loss': loss}\n",
    "        self.test_step_outputs.append(outs)\n",
    "        return loss\n",
    "\n",
    "    def on_test_epoch_end(self):\n",
    "        y_outcome_pred = torch.cat([x['y_outcome_pred'] for x in self.test_step_outputs]).detach().cpu()\n",
    "        y_readmission_pred = torch.cat([x['y_readmission_pred'] for x in self.test_step_outputs]).detach().cpu()\n",
    "        y_outcome_true = torch.cat([x['y_outcome_true'] for x in self.test_step_outputs]).detach().cpu()\n",
    "        y_readmission_true = torch.cat([x['y_readmission_true'] for x in self.test_step_outputs]).detach().cpu()\n",
    "        loss = torch.stack([x['test_loss'] for x in self.test_step_outputs]).mean().detach().cpu()\n",
    "        # self.log(\"test_loss_epoch\", loss)\n",
    "\n",
    "        test_performance = get_all_metrics(y_outcome_pred, y_readmission_pred, y_outcome_true, y_readmission_true)\n",
    "        for k, v in test_performance.items(): self.log(\"test_\"+k, v)\n",
    "\n",
    "        self.test_outputs = {'y_outcome_pred': y_outcome_pred, 'y_readmission_pred': y_readmission_pred, 'y_outcome_true': y_outcome_true, 'y_readmission_true': y_readmission_true, 'test_loss': loss}\n",
    "        self.test_step_outputs.clear()\n",
    "\n",
    "        self.test_performance = test_performance\n",
    "        return test_performance\n",
    "\n",
    "    def configure_optimizers(self):\n",
    "        optimizer = torch.optim.AdamW(self.parameters(), lr=self.learning_rate)\n",
    "        return optimizer"
   ]
  },
  {
   "cell_type": "code",
   "execution_count": 7,
   "metadata": {},
   "outputs": [],
   "source": [
    "def run_experiment(config):\n",
    "    # data\n",
    "    dm = EhrDataModule(f'{config[\"dataset\"]}', batch_size=config[\"batch_size\"])\n",
    "    # logger\n",
    "    # logger = CSVLogger(save_dir=\"logs\", name=f'{config[\"dataset\"]}/{config[\"focus_task\"]}', version=f\"{config['model']}\")\n",
    "\n",
    "    main_metric = \"outcome_auroc\" if config[\"focus_task\"] in [\"outcome\", \"multitask\"] else \"readmission_auroc\"\n",
    "    # EarlyStop and checkpoint callback\n",
    "    early_stopping_callback = EarlyStopping(monitor=main_metric, patience=config[\"patience\"], mode=\"max\",)\n",
    "    checkpoint_callback = ModelCheckpoint(filename=\"best\", monitor=main_metric, mode=\"max\")\n",
    "\n",
    "    L.seed_everything(42) # seed for reproducibility\n",
    "\n",
    "    # train/val/test\n",
    "    pipeline = Pipeline(config)\n",
    "    # trainer = L.Trainer(accelerator=\"gpu\", devices=[0], max_epochs=config[\"epochs\"], logger=logger, callbacks=[early_stopping_callback, checkpoint_callback])\n",
    "    trainer = L.Trainer(accelerator=\"gpu\", devices=[0], max_epochs=config[\"epochs\"], callbacks=[early_stopping_callback, checkpoint_callback])\n",
    "    trainer.fit(pipeline, dm)\n",
    "\n",
    "    # Load best model checkpoint\n",
    "    best_model_path = checkpoint_callback.best_model_path\n",
    "    print(\"best_model_path:\", best_model_path)\n",
    "    pipeline = Pipeline.load_from_checkpoint(best_model_path, config=config)\n",
    "    trainer.test(pipeline, dm)\n",
    "\n",
    "    perf = pipeline.test_performance\n",
    "    outs = pipeline.test_outputs\n",
    "    return perf, outs"
   ]
  },
  {
   "cell_type": "code",
   "execution_count": 8,
   "metadata": {},
   "outputs": [],
   "source": [
    "# # Author\n",
    "# config = {\n",
    "#     'model': 'EMERGE',\n",
    "#     'dataset': 'mimic4', # ['mimic3', 'mimic4']\n",
    "#     'input_ehr_dim': 61,\n",
    "#     'input_note_dim': 768, # ClinicalLongformer embedding\n",
    "#     'input_summary_dim': 768, # ClinicalLongformer embedding\n",
    "#     'learning_rate': 1e-3,\n",
    "#     'hidden_dim': 128,\n",
    "#     'focus_task': 'outcome', # ['outcome', 'readmission'] no multitask\n",
    "#     'ehr_net': 'gru', # ['lstm', 'gru', 'rnn', 'transformer']\n",
    "#     'text_fusion': 'concat', # ['note_only', 'summary_only', 'add', 'concat', 'adaptive', 'mag']\n",
    "#     'modality_fusion': 'ours', # ['ours', 'mag', 'concat', 'tf']\n",
    "#     'use_modality': 'ehr_note_summary', # [ehr_only, note_only, summary_only, ehr_note, ehr_summary, note_summary, ehr_note_summary]\n",
    "#     'batch_size': 256,\n",
    "#     'epochs': 50,\n",
    "#     'patience': 5,\n",
    "# }"
   ]
  },
  {
   "cell_type": "code",
   "execution_count": 9,
   "metadata": {},
   "outputs": [],
   "source": [
    "config = {\n",
    "    'model': 'EMERGE',\n",
    "    'dataset': DATA_PATH,\n",
    "    'input_ehr_dim': 61,\n",
    "    'input_note_dim': 768, # ClinicalLongformer embedding\n",
    "    'input_summary_dim': 768, # ClinicalLongformer embedding\n",
    "    'learning_rate': 1e-3,\n",
    "    'hidden_dim': 128,\n",
    "    'focus_task': 'outcome', # ['outcome', 'readmission'] no multitask\n",
    "    'ehr_net': 'gru', # ['lstm', 'gru', 'rnn', 'transformer']\n",
    "    'text_fusion': 'concat', # ['note_only', 'summary_only', 'add', 'concat', 'adaptive', 'mag']\n",
    "    'modality_fusion': 'ours', # ['ours', 'mag', 'concat', 'tf']\n",
    "    'use_modality': 'ehr_only', # [ehr_only, note_only, summary_only, ehr_note, ehr_summary, note_summary, ehr_note_summary]\n",
    "    'batch_size': 256,\n",
    "    'epochs': 50, #\n",
    "    'patience': 5, #\n",
    "}\n",
    "\n",
    "def experimenting(focus_task, use_modality):\n",
    "    config['focus_task'] = focus_task\n",
    "    config['use_modality'] = use_modality\n",
    "    config['model'] = 'EMERGE' + f\"_hid{config['hidden_dim']}_ehr{config['ehr_net']}_text{config['text_fusion']}_{config['modality_fusion']}_{config['use_modality']}\"\n",
    "\n",
    "    perf, outs = run_experiment(config)\n",
    "\n",
    "    y_outcome_pred = outs['y_outcome_pred']\n",
    "    y_readmission_pred = outs['y_readmission_pred']\n",
    "    y_outcome_true = outs['y_outcome_true']\n",
    "    y_readmission_true = outs['y_readmission_true']\n",
    "\n",
    "    bootstrap_results = run_bootstrap(y_outcome_pred, y_readmission_pred, y_outcome_true, y_readmission_true)\n",
    "\n",
    "    print(f\"\\n\\nExperimenting with focus_task: {focus_task}, use_modality: {use_modality}\")\n",
    "    record = \"\"\n",
    "    for k, v in bootstrap_results.items():\n",
    "        title = str(k) + \" \" * (25 - len(k))\n",
    "        record += f\"{title} {v['mean'] * 100:.2f}±{v['std'] * 100:.2f}\" + \"\\n\"\n",
    "    SAVE_DIR = f\"results/{config['focus_task']}/\"\n",
    "    with open(SAVE_DIR + f\"{config['use_modality']}.txt\", \"w\", encoding=\"utf-8\") as f:\n",
    "        f.write(record)\n",
    "\n",
    "    if focus_task == \"outcome\":\n",
    "        plot_prediction_correctness_by_label(labels=y_outcome_true, preds=y_outcome_pred, \n",
    "                                             title=f\"Plot for {focus_task} task using {use_modality} modality\", SAVE_DIR=SAVE_DIR + f\"{config['use_modality']}.png\")\n",
    "    else:\n",
    "        plot_prediction_correctness_by_label(labels=y_readmission_true, preds=y_readmission_pred, \n",
    "                                             title=f\"Plot for {focus_task} task using {use_modality} modality\", SAVE_DIR=SAVE_DIR + f\"{config['use_modality']}.png\")"
   ]
  },
  {
   "cell_type": "code",
   "execution_count": 10,
   "metadata": {},
   "outputs": [
    {
     "name": "stderr",
     "output_type": "stream",
     "text": [
      "Seed set to 42\n",
      "GPU available: True (cuda), used: True\n",
      "TPU available: False, using: 0 TPU cores\n",
      "HPU available: False, using: 0 HPUs\n",
      "d:\\Lab\\Research\\EMERGE-REPLICATE\\.venv\\Lib\\site-packages\\lightning\\pytorch\\trainer\\connectors\\logger_connector\\logger_connector.py:76: Starting from v1.9.0, `tensorboardX` has been removed as a dependency of the `lightning.pytorch` package, due to potential conflicts with other packages in the ML ecosystem. For this reason, `logger=True` will use `CSVLogger` as the default logger, unless the `tensorboard` or `tensorboardX` packages are found. Please `pip install lightning[extra]` or one of them to enable TensorBoard support by default\n",
      "You are using a CUDA device ('NVIDIA GeForce RTX 3060') that has Tensor Cores. To properly utilize them, you should set `torch.set_float32_matmul_precision('medium' | 'high')` which will trade-off precision for performance. For more details, read https://pytorch.org/docs/stable/generated/torch.set_float32_matmul_precision.html#torch.set_float32_matmul_precision\n",
      "LOCAL_RANK: 0 - CUDA_VISIBLE_DEVICES: [0]\n",
      "\n",
      "  | Name    | Type          | Params | Mode \n",
      "--------------------------------------------------\n",
      "0 | model   | EMERGE        | 485 K  | train\n",
      "1 | head    | MultitaskHead | 33.3 K | train\n",
      "2 | loss_fn | MultitaskLoss | 2      | train\n",
      "--------------------------------------------------\n",
      "518 K     Trainable params\n",
      "0         Non-trainable params\n",
      "518 K     Total params\n",
      "2.074     Total estimated model params size (MB)\n",
      "32        Modules in train mode\n",
      "0         Modules in eval mode\n"
     ]
    },
    {
     "name": "stdout",
     "output_type": "stream",
     "text": [
      "Sanity Checking DataLoader 0:  50%|█████     | 1/2 [00:00<00:00,  9.12it/s]"
     ]
    },
    {
     "name": "stderr",
     "output_type": "stream",
     "text": [
      "d:\\Lab\\Research\\EMERGE-REPLICATE\\.venv\\Lib\\site-packages\\lightning\\pytorch\\trainer\\connectors\\data_connector.py:433: The 'val_dataloader' does not have many workers which may be a bottleneck. Consider increasing the value of the `num_workers` argument` to `num_workers=19` in the `DataLoader` to improve performance.\n"
     ]
    },
    {
     "name": "stdout",
     "output_type": "stream",
     "text": [
      "                                                                           "
     ]
    },
    {
     "name": "stderr",
     "output_type": "stream",
     "text": [
      "d:\\Lab\\Research\\EMERGE-REPLICATE\\.venv\\Lib\\site-packages\\lightning\\pytorch\\trainer\\connectors\\data_connector.py:433: The 'train_dataloader' does not have many workers which may be a bottleneck. Consider increasing the value of the `num_workers` argument` to `num_workers=19` in the `DataLoader` to improve performance.\n",
      "d:\\Lab\\Research\\EMERGE-REPLICATE\\.venv\\Lib\\site-packages\\lightning\\pytorch\\loops\\fit_loop.py:310: The number of training batches (43) is smaller than the logging interval Trainer(log_every_n_steps=50). Set a lower value for log_every_n_steps if you want to see logs for the training epoch.\n"
     ]
    },
    {
     "name": "stdout",
     "output_type": "stream",
     "text": [
      "Epoch 19: 100%|██████████| 43/43 [00:00<00:00, 67.74it/s, v_num=44]\n",
      "best_model_path: d:\\Lab\\Research\\EMERGE-REPLICATE\\lightning_logs\\version_44\\checkpoints\\best.ckpt\n"
     ]
    },
    {
     "name": "stderr",
     "output_type": "stream",
     "text": [
      "LOCAL_RANK: 0 - CUDA_VISIBLE_DEVICES: [0]\n",
      "d:\\Lab\\Research\\EMERGE-REPLICATE\\.venv\\Lib\\site-packages\\lightning\\pytorch\\trainer\\connectors\\data_connector.py:433: The 'test_dataloader' does not have many workers which may be a bottleneck. Consider increasing the value of the `num_workers` argument` to `num_workers=19` in the `DataLoader` to improve performance.\n"
     ]
    },
    {
     "name": "stdout",
     "output_type": "stream",
     "text": [
      "Testing DataLoader 0: 100%|██████████| 13/13 [00:00<00:00, 119.25it/s]\n"
     ]
    },
    {
     "data": {
      "text/html": [
       "<pre style=\"white-space:pre;overflow-x:auto;line-height:normal;font-family:Menlo,'DejaVu Sans Mono',consolas,'Courier New',monospace\">┏━━━━━━━━━━━━━━━━━━━━━━━━━━━┳━━━━━━━━━━━━━━━━━━━━━━━━━━━┓\n",
       "┃<span style=\"font-weight: bold\">        Test metric        </span>┃<span style=\"font-weight: bold\">       DataLoader 0        </span>┃\n",
       "┡━━━━━━━━━━━━━━━━━━━━━━━━━━━╇━━━━━━━━━━━━━━━━━━━━━━━━━━━┩\n",
       "│<span style=\"color: #008080; text-decoration-color: #008080\">    test_outcome_auprc     </span>│<span style=\"color: #800080; text-decoration-color: #800080\">    0.5638886094093323     </span>│\n",
       "│<span style=\"color: #008080; text-decoration-color: #008080\">    test_outcome_auroc     </span>│<span style=\"color: #800080; text-decoration-color: #800080\">    0.8538490533828735     </span>│\n",
       "│<span style=\"color: #008080; text-decoration-color: #008080\">    test_outcome_minpse    </span>│<span style=\"color: #800080; text-decoration-color: #800080\">    0.5419501066207886     </span>│\n",
       "│<span style=\"color: #008080; text-decoration-color: #008080\">  test_readmission_auprc   </span>│<span style=\"color: #800080; text-decoration-color: #800080\">    0.16336560249328613    </span>│\n",
       "│<span style=\"color: #008080; text-decoration-color: #008080\">  test_readmission_auroc   </span>│<span style=\"color: #800080; text-decoration-color: #800080\">     0.478401780128479     </span>│\n",
       "│<span style=\"color: #008080; text-decoration-color: #008080\">  test_readmission_minpse  </span>│<span style=\"color: #800080; text-decoration-color: #800080\">    0.1665918231010437     </span>│\n",
       "└───────────────────────────┴───────────────────────────┘\n",
       "</pre>\n"
      ],
      "text/plain": [
       "┏━━━━━━━━━━━━━━━━━━━━━━━━━━━┳━━━━━━━━━━━━━━━━━━━━━━━━━━━┓\n",
       "┃\u001b[1m \u001b[0m\u001b[1m       Test metric       \u001b[0m\u001b[1m \u001b[0m┃\u001b[1m \u001b[0m\u001b[1m      DataLoader 0       \u001b[0m\u001b[1m \u001b[0m┃\n",
       "┡━━━━━━━━━━━━━━━━━━━━━━━━━━━╇━━━━━━━━━━━━━━━━━━━━━━━━━━━┩\n",
       "│\u001b[36m \u001b[0m\u001b[36m   test_outcome_auprc    \u001b[0m\u001b[36m \u001b[0m│\u001b[35m \u001b[0m\u001b[35m   0.5638886094093323    \u001b[0m\u001b[35m \u001b[0m│\n",
       "│\u001b[36m \u001b[0m\u001b[36m   test_outcome_auroc    \u001b[0m\u001b[36m \u001b[0m│\u001b[35m \u001b[0m\u001b[35m   0.8538490533828735    \u001b[0m\u001b[35m \u001b[0m│\n",
       "│\u001b[36m \u001b[0m\u001b[36m   test_outcome_minpse   \u001b[0m\u001b[36m \u001b[0m│\u001b[35m \u001b[0m\u001b[35m   0.5419501066207886    \u001b[0m\u001b[35m \u001b[0m│\n",
       "│\u001b[36m \u001b[0m\u001b[36m test_readmission_auprc  \u001b[0m\u001b[36m \u001b[0m│\u001b[35m \u001b[0m\u001b[35m   0.16336560249328613   \u001b[0m\u001b[35m \u001b[0m│\n",
       "│\u001b[36m \u001b[0m\u001b[36m test_readmission_auroc  \u001b[0m\u001b[36m \u001b[0m│\u001b[35m \u001b[0m\u001b[35m    0.478401780128479    \u001b[0m\u001b[35m \u001b[0m│\n",
       "│\u001b[36m \u001b[0m\u001b[36m test_readmission_minpse \u001b[0m\u001b[36m \u001b[0m│\u001b[35m \u001b[0m\u001b[35m   0.1665918231010437    \u001b[0m\u001b[35m \u001b[0m│\n",
       "└───────────────────────────┴───────────────────────────┘\n"
      ]
     },
     "metadata": {},
     "output_type": "display_data"
    },
    {
     "name": "stdout",
     "output_type": "stream",
     "text": [
      "\n",
      "\n",
      "Experimenting with focus_task: outcome, use_modality: ehr_only\n"
     ]
    },
    {
     "name": "stderr",
     "output_type": "stream",
     "text": [
      "Seed set to 42\n",
      "GPU available: True (cuda), used: True\n",
      "TPU available: False, using: 0 TPU cores\n",
      "HPU available: False, using: 0 HPUs\n",
      "LOCAL_RANK: 0 - CUDA_VISIBLE_DEVICES: [0]\n",
      "\n",
      "  | Name    | Type          | Params | Mode \n",
      "--------------------------------------------------\n",
      "0 | model   | EMERGE        | 485 K  | train\n",
      "1 | head    | MultitaskHead | 33.3 K | train\n",
      "2 | loss_fn | MultitaskLoss | 2      | train\n",
      "--------------------------------------------------\n",
      "518 K     Trainable params\n",
      "0         Non-trainable params\n",
      "518 K     Total params\n",
      "2.074     Total estimated model params size (MB)\n",
      "32        Modules in train mode\n",
      "0         Modules in eval mode\n"
     ]
    },
    {
     "name": "stdout",
     "output_type": "stream",
     "text": [
      "                                                                            "
     ]
    },
    {
     "name": "stderr",
     "output_type": "stream",
     "text": [
      "d:\\Lab\\Research\\EMERGE-REPLICATE\\.venv\\Lib\\site-packages\\lightning\\pytorch\\trainer\\connectors\\data_connector.py:433: The 'val_dataloader' does not have many workers which may be a bottleneck. Consider increasing the value of the `num_workers` argument` to `num_workers=19` in the `DataLoader` to improve performance.\n",
      "d:\\Lab\\Research\\EMERGE-REPLICATE\\.venv\\Lib\\site-packages\\lightning\\pytorch\\trainer\\connectors\\data_connector.py:433: The 'train_dataloader' does not have many workers which may be a bottleneck. Consider increasing the value of the `num_workers` argument` to `num_workers=19` in the `DataLoader` to improve performance.\n",
      "d:\\Lab\\Research\\EMERGE-REPLICATE\\.venv\\Lib\\site-packages\\lightning\\pytorch\\loops\\fit_loop.py:310: The number of training batches (43) is smaller than the logging interval Trainer(log_every_n_steps=50). Set a lower value for log_every_n_steps if you want to see logs for the training epoch.\n"
     ]
    },
    {
     "name": "stdout",
     "output_type": "stream",
     "text": [
      "Epoch 16: 100%|██████████| 43/43 [00:00<00:00, 65.37it/s, v_num=45]\n",
      "best_model_path: d:\\Lab\\Research\\EMERGE-REPLICATE\\lightning_logs\\version_45\\checkpoints\\best.ckpt\n"
     ]
    },
    {
     "name": "stderr",
     "output_type": "stream",
     "text": [
      "LOCAL_RANK: 0 - CUDA_VISIBLE_DEVICES: [0]\n",
      "d:\\Lab\\Research\\EMERGE-REPLICATE\\.venv\\Lib\\site-packages\\lightning\\pytorch\\trainer\\connectors\\data_connector.py:433: The 'test_dataloader' does not have many workers which may be a bottleneck. Consider increasing the value of the `num_workers` argument` to `num_workers=19` in the `DataLoader` to improve performance.\n"
     ]
    },
    {
     "name": "stdout",
     "output_type": "stream",
     "text": [
      "Testing DataLoader 0: 100%|██████████| 13/13 [00:00<00:00, 104.29it/s]\n"
     ]
    },
    {
     "data": {
      "text/html": [
       "<pre style=\"white-space:pre;overflow-x:auto;line-height:normal;font-family:Menlo,'DejaVu Sans Mono',consolas,'Courier New',monospace\">┏━━━━━━━━━━━━━━━━━━━━━━━━━━━┳━━━━━━━━━━━━━━━━━━━━━━━━━━━┓\n",
       "┃<span style=\"font-weight: bold\">        Test metric        </span>┃<span style=\"font-weight: bold\">       DataLoader 0        </span>┃\n",
       "┡━━━━━━━━━━━━━━━━━━━━━━━━━━━╇━━━━━━━━━━━━━━━━━━━━━━━━━━━┩\n",
       "│<span style=\"color: #008080; text-decoration-color: #008080\">    test_outcome_auprc     </span>│<span style=\"color: #800080; text-decoration-color: #800080\">    0.34401407837867737    </span>│\n",
       "│<span style=\"color: #008080; text-decoration-color: #008080\">    test_outcome_auroc     </span>│<span style=\"color: #800080; text-decoration-color: #800080\">    0.7753553986549377     </span>│\n",
       "│<span style=\"color: #008080; text-decoration-color: #008080\">    test_outcome_minpse    </span>│<span style=\"color: #800080; text-decoration-color: #800080\">    0.3769751787185669     </span>│\n",
       "│<span style=\"color: #008080; text-decoration-color: #008080\">  test_readmission_auprc   </span>│<span style=\"color: #800080; text-decoration-color: #800080\">    0.13425400853157043    </span>│\n",
       "│<span style=\"color: #008080; text-decoration-color: #008080\">  test_readmission_auroc   </span>│<span style=\"color: #800080; text-decoration-color: #800080\">    0.40226754546165466    </span>│\n",
       "│<span style=\"color: #008080; text-decoration-color: #008080\">  test_readmission_minpse  </span>│<span style=\"color: #800080; text-decoration-color: #800080\">    0.16489189863204956    </span>│\n",
       "└───────────────────────────┴───────────────────────────┘\n",
       "</pre>\n"
      ],
      "text/plain": [
       "┏━━━━━━━━━━━━━━━━━━━━━━━━━━━┳━━━━━━━━━━━━━━━━━━━━━━━━━━━┓\n",
       "┃\u001b[1m \u001b[0m\u001b[1m       Test metric       \u001b[0m\u001b[1m \u001b[0m┃\u001b[1m \u001b[0m\u001b[1m      DataLoader 0       \u001b[0m\u001b[1m \u001b[0m┃\n",
       "┡━━━━━━━━━━━━━━━━━━━━━━━━━━━╇━━━━━━━━━━━━━━━━━━━━━━━━━━━┩\n",
       "│\u001b[36m \u001b[0m\u001b[36m   test_outcome_auprc    \u001b[0m\u001b[36m \u001b[0m│\u001b[35m \u001b[0m\u001b[35m   0.34401407837867737   \u001b[0m\u001b[35m \u001b[0m│\n",
       "│\u001b[36m \u001b[0m\u001b[36m   test_outcome_auroc    \u001b[0m\u001b[36m \u001b[0m│\u001b[35m \u001b[0m\u001b[35m   0.7753553986549377    \u001b[0m\u001b[35m \u001b[0m│\n",
       "│\u001b[36m \u001b[0m\u001b[36m   test_outcome_minpse   \u001b[0m\u001b[36m \u001b[0m│\u001b[35m \u001b[0m\u001b[35m   0.3769751787185669    \u001b[0m\u001b[35m \u001b[0m│\n",
       "│\u001b[36m \u001b[0m\u001b[36m test_readmission_auprc  \u001b[0m\u001b[36m \u001b[0m│\u001b[35m \u001b[0m\u001b[35m   0.13425400853157043   \u001b[0m\u001b[35m \u001b[0m│\n",
       "│\u001b[36m \u001b[0m\u001b[36m test_readmission_auroc  \u001b[0m\u001b[36m \u001b[0m│\u001b[35m \u001b[0m\u001b[35m   0.40226754546165466   \u001b[0m\u001b[35m \u001b[0m│\n",
       "│\u001b[36m \u001b[0m\u001b[36m test_readmission_minpse \u001b[0m\u001b[36m \u001b[0m│\u001b[35m \u001b[0m\u001b[35m   0.16489189863204956   \u001b[0m\u001b[35m \u001b[0m│\n",
       "└───────────────────────────┴───────────────────────────┘\n"
      ]
     },
     "metadata": {},
     "output_type": "display_data"
    },
    {
     "name": "stdout",
     "output_type": "stream",
     "text": [
      "\n",
      "\n",
      "Experimenting with focus_task: outcome, use_modality: note_only\n"
     ]
    },
    {
     "name": "stderr",
     "output_type": "stream",
     "text": [
      "Seed set to 42\n",
      "GPU available: True (cuda), used: True\n",
      "TPU available: False, using: 0 TPU cores\n",
      "HPU available: False, using: 0 HPUs\n",
      "LOCAL_RANK: 0 - CUDA_VISIBLE_DEVICES: [0]\n",
      "\n",
      "  | Name    | Type          | Params | Mode \n",
      "--------------------------------------------------\n",
      "0 | model   | EMERGE        | 485 K  | train\n",
      "1 | head    | MultitaskHead | 33.3 K | train\n",
      "2 | loss_fn | MultitaskLoss | 2      | train\n",
      "--------------------------------------------------\n",
      "518 K     Trainable params\n",
      "0         Non-trainable params\n",
      "518 K     Total params\n",
      "2.074     Total estimated model params size (MB)\n",
      "32        Modules in train mode\n",
      "0         Modules in eval mode\n"
     ]
    },
    {
     "name": "stdout",
     "output_type": "stream",
     "text": [
      "                                                                            "
     ]
    },
    {
     "name": "stderr",
     "output_type": "stream",
     "text": [
      "d:\\Lab\\Research\\EMERGE-REPLICATE\\.venv\\Lib\\site-packages\\lightning\\pytorch\\trainer\\connectors\\data_connector.py:433: The 'val_dataloader' does not have many workers which may be a bottleneck. Consider increasing the value of the `num_workers` argument` to `num_workers=19` in the `DataLoader` to improve performance.\n",
      "d:\\Lab\\Research\\EMERGE-REPLICATE\\.venv\\Lib\\site-packages\\lightning\\pytorch\\trainer\\connectors\\data_connector.py:433: The 'train_dataloader' does not have many workers which may be a bottleneck. Consider increasing the value of the `num_workers` argument` to `num_workers=19` in the `DataLoader` to improve performance.\n",
      "d:\\Lab\\Research\\EMERGE-REPLICATE\\.venv\\Lib\\site-packages\\lightning\\pytorch\\loops\\fit_loop.py:310: The number of training batches (43) is smaller than the logging interval Trainer(log_every_n_steps=50). Set a lower value for log_every_n_steps if you want to see logs for the training epoch.\n"
     ]
    },
    {
     "name": "stdout",
     "output_type": "stream",
     "text": [
      "Epoch 13: 100%|██████████| 43/43 [00:00<00:00, 55.15it/s, v_num=46]\n",
      "best_model_path: d:\\Lab\\Research\\EMERGE-REPLICATE\\lightning_logs\\version_46\\checkpoints\\best.ckpt\n"
     ]
    },
    {
     "name": "stderr",
     "output_type": "stream",
     "text": [
      "LOCAL_RANK: 0 - CUDA_VISIBLE_DEVICES: [0]\n",
      "d:\\Lab\\Research\\EMERGE-REPLICATE\\.venv\\Lib\\site-packages\\lightning\\pytorch\\trainer\\connectors\\data_connector.py:433: The 'test_dataloader' does not have many workers which may be a bottleneck. Consider increasing the value of the `num_workers` argument` to `num_workers=19` in the `DataLoader` to improve performance.\n"
     ]
    },
    {
     "name": "stdout",
     "output_type": "stream",
     "text": [
      "Testing DataLoader 0: 100%|██████████| 13/13 [00:00<00:00, 108.01it/s]\n"
     ]
    },
    {
     "data": {
      "text/html": [
       "<pre style=\"white-space:pre;overflow-x:auto;line-height:normal;font-family:Menlo,'DejaVu Sans Mono',consolas,'Courier New',monospace\">┏━━━━━━━━━━━━━━━━━━━━━━━━━━━┳━━━━━━━━━━━━━━━━━━━━━━━━━━━┓\n",
       "┃<span style=\"font-weight: bold\">        Test metric        </span>┃<span style=\"font-weight: bold\">       DataLoader 0        </span>┃\n",
       "┡━━━━━━━━━━━━━━━━━━━━━━━━━━━╇━━━━━━━━━━━━━━━━━━━━━━━━━━━┩\n",
       "│<span style=\"color: #008080; text-decoration-color: #008080\">    test_outcome_auprc     </span>│<span style=\"color: #800080; text-decoration-color: #800080\">    0.6043386459350586     </span>│\n",
       "│<span style=\"color: #008080; text-decoration-color: #008080\">    test_outcome_auroc     </span>│<span style=\"color: #800080; text-decoration-color: #800080\">     0.878087043762207     </span>│\n",
       "│<span style=\"color: #008080; text-decoration-color: #008080\">    test_outcome_minpse    </span>│<span style=\"color: #800080; text-decoration-color: #800080\">    0.5426008701324463     </span>│\n",
       "│<span style=\"color: #008080; text-decoration-color: #008080\">  test_readmission_auprc   </span>│<span style=\"color: #800080; text-decoration-color: #800080\">    0.10091498494148254    </span>│\n",
       "│<span style=\"color: #008080; text-decoration-color: #008080\">  test_readmission_auroc   </span>│<span style=\"color: #800080; text-decoration-color: #800080\">    0.2198481559753418     </span>│\n",
       "│<span style=\"color: #008080; text-decoration-color: #008080\">  test_readmission_minpse  </span>│<span style=\"color: #800080; text-decoration-color: #800080\">    0.16488152742385864    </span>│\n",
       "└───────────────────────────┴───────────────────────────┘\n",
       "</pre>\n"
      ],
      "text/plain": [
       "┏━━━━━━━━━━━━━━━━━━━━━━━━━━━┳━━━━━━━━━━━━━━━━━━━━━━━━━━━┓\n",
       "┃\u001b[1m \u001b[0m\u001b[1m       Test metric       \u001b[0m\u001b[1m \u001b[0m┃\u001b[1m \u001b[0m\u001b[1m      DataLoader 0       \u001b[0m\u001b[1m \u001b[0m┃\n",
       "┡━━━━━━━━━━━━━━━━━━━━━━━━━━━╇━━━━━━━━━━━━━━━━━━━━━━━━━━━┩\n",
       "│\u001b[36m \u001b[0m\u001b[36m   test_outcome_auprc    \u001b[0m\u001b[36m \u001b[0m│\u001b[35m \u001b[0m\u001b[35m   0.6043386459350586    \u001b[0m\u001b[35m \u001b[0m│\n",
       "│\u001b[36m \u001b[0m\u001b[36m   test_outcome_auroc    \u001b[0m\u001b[36m \u001b[0m│\u001b[35m \u001b[0m\u001b[35m    0.878087043762207    \u001b[0m\u001b[35m \u001b[0m│\n",
       "│\u001b[36m \u001b[0m\u001b[36m   test_outcome_minpse   \u001b[0m\u001b[36m \u001b[0m│\u001b[35m \u001b[0m\u001b[35m   0.5426008701324463    \u001b[0m\u001b[35m \u001b[0m│\n",
       "│\u001b[36m \u001b[0m\u001b[36m test_readmission_auprc  \u001b[0m\u001b[36m \u001b[0m│\u001b[35m \u001b[0m\u001b[35m   0.10091498494148254   \u001b[0m\u001b[35m \u001b[0m│\n",
       "│\u001b[36m \u001b[0m\u001b[36m test_readmission_auroc  \u001b[0m\u001b[36m \u001b[0m│\u001b[35m \u001b[0m\u001b[35m   0.2198481559753418    \u001b[0m\u001b[35m \u001b[0m│\n",
       "│\u001b[36m \u001b[0m\u001b[36m test_readmission_minpse \u001b[0m\u001b[36m \u001b[0m│\u001b[35m \u001b[0m\u001b[35m   0.16488152742385864   \u001b[0m\u001b[35m \u001b[0m│\n",
       "└───────────────────────────┴───────────────────────────┘\n"
      ]
     },
     "metadata": {},
     "output_type": "display_data"
    },
    {
     "name": "stdout",
     "output_type": "stream",
     "text": [
      "\n",
      "\n",
      "Experimenting with focus_task: outcome, use_modality: ehr_note\n"
     ]
    },
    {
     "name": "stderr",
     "output_type": "stream",
     "text": [
      "Seed set to 42\n",
      "GPU available: True (cuda), used: True\n",
      "TPU available: False, using: 0 TPU cores\n",
      "HPU available: False, using: 0 HPUs\n",
      "LOCAL_RANK: 0 - CUDA_VISIBLE_DEVICES: [0]\n",
      "\n",
      "  | Name    | Type          | Params | Mode \n",
      "--------------------------------------------------\n",
      "0 | model   | EMERGE        | 485 K  | train\n",
      "1 | head    | MultitaskHead | 33.3 K | train\n",
      "2 | loss_fn | MultitaskLoss | 2      | train\n",
      "--------------------------------------------------\n",
      "518 K     Trainable params\n",
      "0         Non-trainable params\n",
      "518 K     Total params\n",
      "2.074     Total estimated model params size (MB)\n",
      "32        Modules in train mode\n",
      "0         Modules in eval mode\n"
     ]
    },
    {
     "name": "stdout",
     "output_type": "stream",
     "text": [
      "                                                                            "
     ]
    },
    {
     "name": "stderr",
     "output_type": "stream",
     "text": [
      "d:\\Lab\\Research\\EMERGE-REPLICATE\\.venv\\Lib\\site-packages\\lightning\\pytorch\\trainer\\connectors\\data_connector.py:433: The 'val_dataloader' does not have many workers which may be a bottleneck. Consider increasing the value of the `num_workers` argument` to `num_workers=19` in the `DataLoader` to improve performance.\n",
      "d:\\Lab\\Research\\EMERGE-REPLICATE\\.venv\\Lib\\site-packages\\lightning\\pytorch\\trainer\\connectors\\data_connector.py:433: The 'train_dataloader' does not have many workers which may be a bottleneck. Consider increasing the value of the `num_workers` argument` to `num_workers=19` in the `DataLoader` to improve performance.\n",
      "d:\\Lab\\Research\\EMERGE-REPLICATE\\.venv\\Lib\\site-packages\\lightning\\pytorch\\loops\\fit_loop.py:310: The number of training batches (43) is smaller than the logging interval Trainer(log_every_n_steps=50). Set a lower value for log_every_n_steps if you want to see logs for the training epoch.\n"
     ]
    },
    {
     "name": "stdout",
     "output_type": "stream",
     "text": [
      "Epoch 25: 100%|██████████| 43/43 [00:00<00:00, 64.27it/s, v_num=47]\n",
      "best_model_path: d:\\Lab\\Research\\EMERGE-REPLICATE\\lightning_logs\\version_47\\checkpoints\\best.ckpt\n"
     ]
    },
    {
     "name": "stderr",
     "output_type": "stream",
     "text": [
      "LOCAL_RANK: 0 - CUDA_VISIBLE_DEVICES: [0]\n",
      "d:\\Lab\\Research\\EMERGE-REPLICATE\\.venv\\Lib\\site-packages\\lightning\\pytorch\\trainer\\connectors\\data_connector.py:433: The 'test_dataloader' does not have many workers which may be a bottleneck. Consider increasing the value of the `num_workers` argument` to `num_workers=19` in the `DataLoader` to improve performance.\n"
     ]
    },
    {
     "name": "stdout",
     "output_type": "stream",
     "text": [
      "Testing DataLoader 0: 100%|██████████| 13/13 [00:00<00:00, 102.08it/s]\n"
     ]
    },
    {
     "data": {
      "text/html": [
       "<pre style=\"white-space:pre;overflow-x:auto;line-height:normal;font-family:Menlo,'DejaVu Sans Mono',consolas,'Courier New',monospace\">┏━━━━━━━━━━━━━━━━━━━━━━━━━━━┳━━━━━━━━━━━━━━━━━━━━━━━━━━━┓\n",
       "┃<span style=\"font-weight: bold\">        Test metric        </span>┃<span style=\"font-weight: bold\">       DataLoader 0        </span>┃\n",
       "┡━━━━━━━━━━━━━━━━━━━━━━━━━━━╇━━━━━━━━━━━━━━━━━━━━━━━━━━━┩\n",
       "│<span style=\"color: #008080; text-decoration-color: #008080\">    test_outcome_auprc     </span>│<span style=\"color: #800080; text-decoration-color: #800080\">    0.13592413067817688    </span>│\n",
       "│<span style=\"color: #008080; text-decoration-color: #008080\">    test_outcome_auroc     </span>│<span style=\"color: #800080; text-decoration-color: #800080\">    0.4548650085926056     </span>│\n",
       "│<span style=\"color: #008080; text-decoration-color: #008080\">    test_outcome_minpse    </span>│<span style=\"color: #800080; text-decoration-color: #800080\">    0.1475728154182434     </span>│\n",
       "│<span style=\"color: #008080; text-decoration-color: #008080\">  test_readmission_auprc   </span>│<span style=\"color: #800080; text-decoration-color: #800080\">    0.5759192109107971     </span>│\n",
       "│<span style=\"color: #008080; text-decoration-color: #008080\">  test_readmission_auroc   </span>│<span style=\"color: #800080; text-decoration-color: #800080\">    0.8250977396965027     </span>│\n",
       "│<span style=\"color: #008080; text-decoration-color: #008080\">  test_readmission_minpse  </span>│<span style=\"color: #800080; text-decoration-color: #800080\">    0.5406976938247681     </span>│\n",
       "└───────────────────────────┴───────────────────────────┘\n",
       "</pre>\n"
      ],
      "text/plain": [
       "┏━━━━━━━━━━━━━━━━━━━━━━━━━━━┳━━━━━━━━━━━━━━━━━━━━━━━━━━━┓\n",
       "┃\u001b[1m \u001b[0m\u001b[1m       Test metric       \u001b[0m\u001b[1m \u001b[0m┃\u001b[1m \u001b[0m\u001b[1m      DataLoader 0       \u001b[0m\u001b[1m \u001b[0m┃\n",
       "┡━━━━━━━━━━━━━━━━━━━━━━━━━━━╇━━━━━━━━━━━━━━━━━━━━━━━━━━━┩\n",
       "│\u001b[36m \u001b[0m\u001b[36m   test_outcome_auprc    \u001b[0m\u001b[36m \u001b[0m│\u001b[35m \u001b[0m\u001b[35m   0.13592413067817688   \u001b[0m\u001b[35m \u001b[0m│\n",
       "│\u001b[36m \u001b[0m\u001b[36m   test_outcome_auroc    \u001b[0m\u001b[36m \u001b[0m│\u001b[35m \u001b[0m\u001b[35m   0.4548650085926056    \u001b[0m\u001b[35m \u001b[0m│\n",
       "│\u001b[36m \u001b[0m\u001b[36m   test_outcome_minpse   \u001b[0m\u001b[36m \u001b[0m│\u001b[35m \u001b[0m\u001b[35m   0.1475728154182434    \u001b[0m\u001b[35m \u001b[0m│\n",
       "│\u001b[36m \u001b[0m\u001b[36m test_readmission_auprc  \u001b[0m\u001b[36m \u001b[0m│\u001b[35m \u001b[0m\u001b[35m   0.5759192109107971    \u001b[0m\u001b[35m \u001b[0m│\n",
       "│\u001b[36m \u001b[0m\u001b[36m test_readmission_auroc  \u001b[0m\u001b[36m \u001b[0m│\u001b[35m \u001b[0m\u001b[35m   0.8250977396965027    \u001b[0m\u001b[35m \u001b[0m│\n",
       "│\u001b[36m \u001b[0m\u001b[36m test_readmission_minpse \u001b[0m\u001b[36m \u001b[0m│\u001b[35m \u001b[0m\u001b[35m   0.5406976938247681    \u001b[0m\u001b[35m \u001b[0m│\n",
       "└───────────────────────────┴───────────────────────────┘\n"
      ]
     },
     "metadata": {},
     "output_type": "display_data"
    },
    {
     "name": "stdout",
     "output_type": "stream",
     "text": [
      "\n",
      "\n",
      "Experimenting with focus_task: readmission, use_modality: ehr_only\n"
     ]
    },
    {
     "name": "stderr",
     "output_type": "stream",
     "text": [
      "Seed set to 42\n",
      "GPU available: True (cuda), used: True\n",
      "TPU available: False, using: 0 TPU cores\n",
      "HPU available: False, using: 0 HPUs\n",
      "LOCAL_RANK: 0 - CUDA_VISIBLE_DEVICES: [0]\n",
      "\n",
      "  | Name    | Type          | Params | Mode \n",
      "--------------------------------------------------\n",
      "0 | model   | EMERGE        | 485 K  | train\n",
      "1 | head    | MultitaskHead | 33.3 K | train\n",
      "2 | loss_fn | MultitaskLoss | 2      | train\n",
      "--------------------------------------------------\n",
      "518 K     Trainable params\n",
      "0         Non-trainable params\n",
      "518 K     Total params\n",
      "2.074     Total estimated model params size (MB)\n",
      "32        Modules in train mode\n",
      "0         Modules in eval mode\n"
     ]
    },
    {
     "name": "stdout",
     "output_type": "stream",
     "text": [
      "                                                                            "
     ]
    },
    {
     "name": "stderr",
     "output_type": "stream",
     "text": [
      "d:\\Lab\\Research\\EMERGE-REPLICATE\\.venv\\Lib\\site-packages\\lightning\\pytorch\\trainer\\connectors\\data_connector.py:433: The 'val_dataloader' does not have many workers which may be a bottleneck. Consider increasing the value of the `num_workers` argument` to `num_workers=19` in the `DataLoader` to improve performance.\n",
      "d:\\Lab\\Research\\EMERGE-REPLICATE\\.venv\\Lib\\site-packages\\lightning\\pytorch\\trainer\\connectors\\data_connector.py:433: The 'train_dataloader' does not have many workers which may be a bottleneck. Consider increasing the value of the `num_workers` argument` to `num_workers=19` in the `DataLoader` to improve performance.\n",
      "d:\\Lab\\Research\\EMERGE-REPLICATE\\.venv\\Lib\\site-packages\\lightning\\pytorch\\loops\\fit_loop.py:310: The number of training batches (43) is smaller than the logging interval Trainer(log_every_n_steps=50). Set a lower value for log_every_n_steps if you want to see logs for the training epoch.\n"
     ]
    },
    {
     "name": "stdout",
     "output_type": "stream",
     "text": [
      "Epoch 16: 100%|██████████| 43/43 [00:00<00:00, 70.89it/s, v_num=48]\n",
      "best_model_path: d:\\Lab\\Research\\EMERGE-REPLICATE\\lightning_logs\\version_48\\checkpoints\\best.ckpt\n"
     ]
    },
    {
     "name": "stderr",
     "output_type": "stream",
     "text": [
      "LOCAL_RANK: 0 - CUDA_VISIBLE_DEVICES: [0]\n",
      "d:\\Lab\\Research\\EMERGE-REPLICATE\\.venv\\Lib\\site-packages\\lightning\\pytorch\\trainer\\connectors\\data_connector.py:433: The 'test_dataloader' does not have many workers which may be a bottleneck. Consider increasing the value of the `num_workers` argument` to `num_workers=19` in the `DataLoader` to improve performance.\n"
     ]
    },
    {
     "name": "stdout",
     "output_type": "stream",
     "text": [
      "Testing DataLoader 0: 100%|██████████| 13/13 [00:00<00:00, 113.98it/s]\n"
     ]
    },
    {
     "data": {
      "text/html": [
       "<pre style=\"white-space:pre;overflow-x:auto;line-height:normal;font-family:Menlo,'DejaVu Sans Mono',consolas,'Courier New',monospace\">┏━━━━━━━━━━━━━━━━━━━━━━━━━━━┳━━━━━━━━━━━━━━━━━━━━━━━━━━━┓\n",
       "┃<span style=\"font-weight: bold\">        Test metric        </span>┃<span style=\"font-weight: bold\">       DataLoader 0        </span>┃\n",
       "┡━━━━━━━━━━━━━━━━━━━━━━━━━━━╇━━━━━━━━━━━━━━━━━━━━━━━━━━━┩\n",
       "│<span style=\"color: #008080; text-decoration-color: #008080\">    test_outcome_auprc     </span>│<span style=\"color: #800080; text-decoration-color: #800080\">    0.13340851664543152    </span>│\n",
       "│<span style=\"color: #008080; text-decoration-color: #008080\">    test_outcome_auroc     </span>│<span style=\"color: #800080; text-decoration-color: #800080\">    0.4634573757648468     </span>│\n",
       "│<span style=\"color: #008080; text-decoration-color: #008080\">    test_outcome_minpse    </span>│<span style=\"color: #800080; text-decoration-color: #800080\">    0.1423027217388153     </span>│\n",
       "│<span style=\"color: #008080; text-decoration-color: #008080\">  test_readmission_auprc   </span>│<span style=\"color: #800080; text-decoration-color: #800080\">    0.3435134291648865     </span>│\n",
       "│<span style=\"color: #008080; text-decoration-color: #008080\">  test_readmission_auroc   </span>│<span style=\"color: #800080; text-decoration-color: #800080\">     0.740429699420929     </span>│\n",
       "│<span style=\"color: #008080; text-decoration-color: #008080\">  test_readmission_minpse  </span>│<span style=\"color: #800080; text-decoration-color: #800080\">    0.36872586607933044    </span>│\n",
       "└───────────────────────────┴───────────────────────────┘\n",
       "</pre>\n"
      ],
      "text/plain": [
       "┏━━━━━━━━━━━━━━━━━━━━━━━━━━━┳━━━━━━━━━━━━━━━━━━━━━━━━━━━┓\n",
       "┃\u001b[1m \u001b[0m\u001b[1m       Test metric       \u001b[0m\u001b[1m \u001b[0m┃\u001b[1m \u001b[0m\u001b[1m      DataLoader 0       \u001b[0m\u001b[1m \u001b[0m┃\n",
       "┡━━━━━━━━━━━━━━━━━━━━━━━━━━━╇━━━━━━━━━━━━━━━━━━━━━━━━━━━┩\n",
       "│\u001b[36m \u001b[0m\u001b[36m   test_outcome_auprc    \u001b[0m\u001b[36m \u001b[0m│\u001b[35m \u001b[0m\u001b[35m   0.13340851664543152   \u001b[0m\u001b[35m \u001b[0m│\n",
       "│\u001b[36m \u001b[0m\u001b[36m   test_outcome_auroc    \u001b[0m\u001b[36m \u001b[0m│\u001b[35m \u001b[0m\u001b[35m   0.4634573757648468    \u001b[0m\u001b[35m \u001b[0m│\n",
       "│\u001b[36m \u001b[0m\u001b[36m   test_outcome_minpse   \u001b[0m\u001b[36m \u001b[0m│\u001b[35m \u001b[0m\u001b[35m   0.1423027217388153    \u001b[0m\u001b[35m \u001b[0m│\n",
       "│\u001b[36m \u001b[0m\u001b[36m test_readmission_auprc  \u001b[0m\u001b[36m \u001b[0m│\u001b[35m \u001b[0m\u001b[35m   0.3435134291648865    \u001b[0m\u001b[35m \u001b[0m│\n",
       "│\u001b[36m \u001b[0m\u001b[36m test_readmission_auroc  \u001b[0m\u001b[36m \u001b[0m│\u001b[35m \u001b[0m\u001b[35m    0.740429699420929    \u001b[0m\u001b[35m \u001b[0m│\n",
       "│\u001b[36m \u001b[0m\u001b[36m test_readmission_minpse \u001b[0m\u001b[36m \u001b[0m│\u001b[35m \u001b[0m\u001b[35m   0.36872586607933044   \u001b[0m\u001b[35m \u001b[0m│\n",
       "└───────────────────────────┴───────────────────────────┘\n"
      ]
     },
     "metadata": {},
     "output_type": "display_data"
    },
    {
     "name": "stdout",
     "output_type": "stream",
     "text": [
      "\n",
      "\n",
      "Experimenting with focus_task: readmission, use_modality: note_only\n"
     ]
    },
    {
     "name": "stderr",
     "output_type": "stream",
     "text": [
      "Seed set to 42\n",
      "GPU available: True (cuda), used: True\n",
      "TPU available: False, using: 0 TPU cores\n",
      "HPU available: False, using: 0 HPUs\n",
      "LOCAL_RANK: 0 - CUDA_VISIBLE_DEVICES: [0]\n",
      "\n",
      "  | Name    | Type          | Params | Mode \n",
      "--------------------------------------------------\n",
      "0 | model   | EMERGE        | 485 K  | train\n",
      "1 | head    | MultitaskHead | 33.3 K | train\n",
      "2 | loss_fn | MultitaskLoss | 2      | train\n",
      "--------------------------------------------------\n",
      "518 K     Trainable params\n",
      "0         Non-trainable params\n",
      "518 K     Total params\n",
      "2.074     Total estimated model params size (MB)\n",
      "32        Modules in train mode\n",
      "0         Modules in eval mode\n"
     ]
    },
    {
     "name": "stdout",
     "output_type": "stream",
     "text": [
      "                                                                            "
     ]
    },
    {
     "name": "stderr",
     "output_type": "stream",
     "text": [
      "d:\\Lab\\Research\\EMERGE-REPLICATE\\.venv\\Lib\\site-packages\\lightning\\pytorch\\trainer\\connectors\\data_connector.py:433: The 'val_dataloader' does not have many workers which may be a bottleneck. Consider increasing the value of the `num_workers` argument` to `num_workers=19` in the `DataLoader` to improve performance.\n",
      "d:\\Lab\\Research\\EMERGE-REPLICATE\\.venv\\Lib\\site-packages\\lightning\\pytorch\\trainer\\connectors\\data_connector.py:433: The 'train_dataloader' does not have many workers which may be a bottleneck. Consider increasing the value of the `num_workers` argument` to `num_workers=19` in the `DataLoader` to improve performance.\n",
      "d:\\Lab\\Research\\EMERGE-REPLICATE\\.venv\\Lib\\site-packages\\lightning\\pytorch\\loops\\fit_loop.py:310: The number of training batches (43) is smaller than the logging interval Trainer(log_every_n_steps=50). Set a lower value for log_every_n_steps if you want to see logs for the training epoch.\n"
     ]
    },
    {
     "name": "stdout",
     "output_type": "stream",
     "text": [
      "Epoch 14: 100%|██████████| 43/43 [00:00<00:00, 60.58it/s, v_num=49]\n",
      "best_model_path: d:\\Lab\\Research\\EMERGE-REPLICATE\\lightning_logs\\version_49\\checkpoints\\best.ckpt\n"
     ]
    },
    {
     "name": "stderr",
     "output_type": "stream",
     "text": [
      "LOCAL_RANK: 0 - CUDA_VISIBLE_DEVICES: [0]\n",
      "d:\\Lab\\Research\\EMERGE-REPLICATE\\.venv\\Lib\\site-packages\\lightning\\pytorch\\trainer\\connectors\\data_connector.py:433: The 'test_dataloader' does not have many workers which may be a bottleneck. Consider increasing the value of the `num_workers` argument` to `num_workers=19` in the `DataLoader` to improve performance.\n"
     ]
    },
    {
     "name": "stdout",
     "output_type": "stream",
     "text": [
      "Testing DataLoader 0: 100%|██████████| 13/13 [00:00<00:00, 113.03it/s]\n"
     ]
    },
    {
     "data": {
      "text/html": [
       "<pre style=\"white-space:pre;overflow-x:auto;line-height:normal;font-family:Menlo,'DejaVu Sans Mono',consolas,'Courier New',monospace\">┏━━━━━━━━━━━━━━━━━━━━━━━━━━━┳━━━━━━━━━━━━━━━━━━━━━━━━━━━┓\n",
       "┃<span style=\"font-weight: bold\">        Test metric        </span>┃<span style=\"font-weight: bold\">       DataLoader 0        </span>┃\n",
       "┡━━━━━━━━━━━━━━━━━━━━━━━━━━━╇━━━━━━━━━━━━━━━━━━━━━━━━━━━┩\n",
       "│<span style=\"color: #008080; text-decoration-color: #008080\">    test_outcome_auprc     </span>│<span style=\"color: #800080; text-decoration-color: #800080\">    0.31739896535873413    </span>│\n",
       "│<span style=\"color: #008080; text-decoration-color: #008080\">    test_outcome_auroc     </span>│<span style=\"color: #800080; text-decoration-color: #800080\">    0.5742220878601074     </span>│\n",
       "│<span style=\"color: #008080; text-decoration-color: #008080\">    test_outcome_minpse    </span>│<span style=\"color: #800080; text-decoration-color: #800080\">    0.27272728085517883    </span>│\n",
       "│<span style=\"color: #008080; text-decoration-color: #008080\">  test_readmission_auprc   </span>│<span style=\"color: #800080; text-decoration-color: #800080\">    0.5704160332679749     </span>│\n",
       "│<span style=\"color: #008080; text-decoration-color: #008080\">  test_readmission_auroc   </span>│<span style=\"color: #800080; text-decoration-color: #800080\">    0.8328325748443604     </span>│\n",
       "│<span style=\"color: #008080; text-decoration-color: #008080\">  test_readmission_minpse  </span>│<span style=\"color: #800080; text-decoration-color: #800080\">    0.5283757448196411     </span>│\n",
       "└───────────────────────────┴───────────────────────────┘\n",
       "</pre>\n"
      ],
      "text/plain": [
       "┏━━━━━━━━━━━━━━━━━━━━━━━━━━━┳━━━━━━━━━━━━━━━━━━━━━━━━━━━┓\n",
       "┃\u001b[1m \u001b[0m\u001b[1m       Test metric       \u001b[0m\u001b[1m \u001b[0m┃\u001b[1m \u001b[0m\u001b[1m      DataLoader 0       \u001b[0m\u001b[1m \u001b[0m┃\n",
       "┡━━━━━━━━━━━━━━━━━━━━━━━━━━━╇━━━━━━━━━━━━━━━━━━━━━━━━━━━┩\n",
       "│\u001b[36m \u001b[0m\u001b[36m   test_outcome_auprc    \u001b[0m\u001b[36m \u001b[0m│\u001b[35m \u001b[0m\u001b[35m   0.31739896535873413   \u001b[0m\u001b[35m \u001b[0m│\n",
       "│\u001b[36m \u001b[0m\u001b[36m   test_outcome_auroc    \u001b[0m\u001b[36m \u001b[0m│\u001b[35m \u001b[0m\u001b[35m   0.5742220878601074    \u001b[0m\u001b[35m \u001b[0m│\n",
       "│\u001b[36m \u001b[0m\u001b[36m   test_outcome_minpse   \u001b[0m\u001b[36m \u001b[0m│\u001b[35m \u001b[0m\u001b[35m   0.27272728085517883   \u001b[0m\u001b[35m \u001b[0m│\n",
       "│\u001b[36m \u001b[0m\u001b[36m test_readmission_auprc  \u001b[0m\u001b[36m \u001b[0m│\u001b[35m \u001b[0m\u001b[35m   0.5704160332679749    \u001b[0m\u001b[35m \u001b[0m│\n",
       "│\u001b[36m \u001b[0m\u001b[36m test_readmission_auroc  \u001b[0m\u001b[36m \u001b[0m│\u001b[35m \u001b[0m\u001b[35m   0.8328325748443604    \u001b[0m\u001b[35m \u001b[0m│\n",
       "│\u001b[36m \u001b[0m\u001b[36m test_readmission_minpse \u001b[0m\u001b[36m \u001b[0m│\u001b[35m \u001b[0m\u001b[35m   0.5283757448196411    \u001b[0m\u001b[35m \u001b[0m│\n",
       "└───────────────────────────┴───────────────────────────┘\n"
      ]
     },
     "metadata": {},
     "output_type": "display_data"
    },
    {
     "name": "stdout",
     "output_type": "stream",
     "text": [
      "\n",
      "\n",
      "Experimenting with focus_task: readmission, use_modality: ehr_note\n"
     ]
    }
   ],
   "source": [
    "for focus_task in ['outcome', 'readmission']:\n",
    "    for use_modality in ['ehr_only', 'note_only', 'ehr_note']:\n",
    "        experimenting(focus_task, use_modality)"
   ]
  }
 ],
 "metadata": {
  "kernelspec": {
   "display_name": ".venv",
   "language": "python",
   "name": "python3"
  },
  "language_info": {
   "codemirror_mode": {
    "name": "ipython",
    "version": 3
   },
   "file_extension": ".py",
   "mimetype": "text/x-python",
   "name": "python",
   "nbconvert_exporter": "python",
   "pygments_lexer": "ipython3",
   "version": "3.11.9"
  }
 },
 "nbformat": 4,
 "nbformat_minor": 2
}
