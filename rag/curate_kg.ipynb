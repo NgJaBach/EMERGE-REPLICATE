{
 "cells": [
  {
   "cell_type": "markdown",
   "id": "2b74dd6d",
   "metadata": {},
   "source": [
    "# Curate kg.csv"
   ]
  },
  {
   "cell_type": "code",
   "execution_count": 25,
   "id": "94860032",
   "metadata": {},
   "outputs": [
    {
     "data": {
      "text/html": [
       "<div>\n",
       "<style scoped>\n",
       "    .dataframe tbody tr th:only-of-type {\n",
       "        vertical-align: middle;\n",
       "    }\n",
       "\n",
       "    .dataframe tbody tr th {\n",
       "        vertical-align: top;\n",
       "    }\n",
       "\n",
       "    .dataframe thead th {\n",
       "        text-align: right;\n",
       "    }\n",
       "</style>\n",
       "<table border=\"1\" class=\"dataframe\">\n",
       "  <thead>\n",
       "    <tr style=\"text-align: right;\">\n",
       "      <th></th>\n",
       "      <th>relation</th>\n",
       "      <th>x_index</th>\n",
       "      <th>y_index</th>\n",
       "    </tr>\n",
       "  </thead>\n",
       "  <tbody>\n",
       "    <tr>\n",
       "      <th>0</th>\n",
       "      <td>protein_protein</td>\n",
       "      <td>0</td>\n",
       "      <td>8889</td>\n",
       "    </tr>\n",
       "    <tr>\n",
       "      <th>1</th>\n",
       "      <td>protein_protein</td>\n",
       "      <td>1</td>\n",
       "      <td>2798</td>\n",
       "    </tr>\n",
       "    <tr>\n",
       "      <th>2</th>\n",
       "      <td>protein_protein</td>\n",
       "      <td>2</td>\n",
       "      <td>5646</td>\n",
       "    </tr>\n",
       "    <tr>\n",
       "      <th>3</th>\n",
       "      <td>protein_protein</td>\n",
       "      <td>3</td>\n",
       "      <td>11592</td>\n",
       "    </tr>\n",
       "    <tr>\n",
       "      <th>4</th>\n",
       "      <td>protein_protein</td>\n",
       "      <td>4</td>\n",
       "      <td>2122</td>\n",
       "    </tr>\n",
       "  </tbody>\n",
       "</table>\n",
       "</div>"
      ],
      "text/plain": [
       "          relation  x_index  y_index\n",
       "0  protein_protein        0     8889\n",
       "1  protein_protein        1     2798\n",
       "2  protein_protein        2     5646\n",
       "3  protein_protein        3    11592\n",
       "4  protein_protein        4     2122"
      ]
     },
     "execution_count": 25,
     "metadata": {},
     "output_type": "execute_result"
    }
   ],
   "source": [
    "import pandas as pd\n",
    "\n",
    "df = pd.read_csv(\"D:/Lab/Research/EMERGE-REPLICATE/datasets/dataverse_files/kg.csv\", low_memory=False)\n",
    "\n",
    "df = df[[\"relation\", \"x_index\", \"y_index\"]]\n",
    "\n",
    "df.head()"
   ]
  },
  {
   "cell_type": "code",
   "execution_count": 26,
   "id": "2f0fff17",
   "metadata": {},
   "outputs": [
    {
     "name": "stderr",
     "output_type": "stream",
     "text": [
      "100%|██████████| 8100498/8100498 [00:03<00:00, 2271641.33it/s]\n"
     ]
    }
   ],
   "source": [
    "from collections import defaultdict\n",
    "import pickle\n",
    "from tqdm import tqdm\n",
    "\n",
    "adj_list = defaultdict(list)\n",
    "for u, v, r in tqdm(zip(df[\"x_index\"].values, df[\"y_index\"].values, df[\"relation\"].values), total=len(df)):\n",
    "    adj_list[int(u)].append((int(v), str(r)))\n",
    "\n",
    "out_path = \"D:/Lab/Research/EMERGE-REPLICATE/rag/curated_data/kg_adjacency.pkl\"\n",
    "with open(out_path, \"wb\") as f:\n",
    "    pickle.dump(adj_list, f, protocol=pickle.HIGHEST_PROTOCOL)\n"
   ]
  },
  {
   "cell_type": "markdown",
   "id": "36b196c7",
   "metadata": {},
   "source": [
    "# Curate disease_features.csv"
   ]
  },
  {
   "cell_type": "code",
   "execution_count": 27,
   "id": "e2a4c05c",
   "metadata": {},
   "outputs": [
    {
     "name": "stdout",
     "output_type": "stream",
     "text": [
      "node_index                               0\n",
      "mondo_id                                 0\n",
      "mondo_name                               0\n",
      "group_id_bert                        31032\n",
      "group_name_bert                      31032\n",
      "mondo_definition                      8679\n",
      "umls_description                     14165\n",
      "orphanet_definition                  28899\n",
      "orphanet_prevalence                  34992\n",
      "orphanet_epidemiology                37181\n",
      "orphanet_clinical_description        37213\n",
      "orphanet_management_and_treatment    38438\n",
      "mayo_symptoms                        28787\n",
      "mayo_causes                          28812\n",
      "mayo_risk_factors                    29421\n",
      "mayo_complications                   31260\n",
      "mayo_prevention                      37283\n",
      "mayo_see_doc                         30455\n",
      "dtype: int64\n"
     ]
    },
    {
     "data": {
      "text/html": [
       "<div>\n",
       "<style scoped>\n",
       "    .dataframe tbody tr th:only-of-type {\n",
       "        vertical-align: middle;\n",
       "    }\n",
       "\n",
       "    .dataframe tbody tr th {\n",
       "        vertical-align: top;\n",
       "    }\n",
       "\n",
       "    .dataframe thead th {\n",
       "        text-align: right;\n",
       "    }\n",
       "</style>\n",
       "<table border=\"1\" class=\"dataframe\">\n",
       "  <thead>\n",
       "    <tr style=\"text-align: right;\">\n",
       "      <th></th>\n",
       "      <th>node_index</th>\n",
       "      <th>mondo_name</th>\n",
       "      <th>mondo_definition</th>\n",
       "      <th>orphanet_definition</th>\n",
       "      <th>umls_description</th>\n",
       "    </tr>\n",
       "  </thead>\n",
       "  <tbody>\n",
       "    <tr>\n",
       "      <th>0</th>\n",
       "      <td>27158</td>\n",
       "      <td>osteogenesis imperfecta type 5</td>\n",
       "      <td>Osteogenesis imperfecta type V is a moderate t...</td>\n",
       "      <td>A moderate form of osteogenesis imperfecta cha...</td>\n",
       "      <td>Osteogenesis imperfecta is a genetic disorder ...</td>\n",
       "    </tr>\n",
       "    <tr>\n",
       "      <th>1</th>\n",
       "      <td>27158</td>\n",
       "      <td>osteogenesis imperfecta type 5</td>\n",
       "      <td>Osteogenesis imperfecta type V is a moderate t...</td>\n",
       "      <td>A moderate form of osteogenesis imperfecta cha...</td>\n",
       "      <td>A group of usually autosomal dominant inherite...</td>\n",
       "    </tr>\n",
       "    <tr>\n",
       "      <th>2</th>\n",
       "      <td>27158</td>\n",
       "      <td>osteogenesis imperfecta type 7</td>\n",
       "      <td>Any osteogenesis imperfecta in which the cause...</td>\n",
       "      <td>NaN</td>\n",
       "      <td>collagen diseases characterized by brittle, os...</td>\n",
       "    </tr>\n",
       "    <tr>\n",
       "      <th>3</th>\n",
       "      <td>27158</td>\n",
       "      <td>osteogenesis imperfecta</td>\n",
       "      <td>Osteogenesis imperfecta (OI) comprises a heter...</td>\n",
       "      <td>Osteogenesis imperfecta (OI) comprises a heter...</td>\n",
       "      <td>A group of inherited connective tissue disorde...</td>\n",
       "    </tr>\n",
       "    <tr>\n",
       "      <th>4</th>\n",
       "      <td>27158</td>\n",
       "      <td>osteogenesis imperfecta</td>\n",
       "      <td>Osteogenesis imperfecta (OI) comprises a heter...</td>\n",
       "      <td>Osteogenesis imperfecta (OI) comprises a heter...</td>\n",
       "      <td>Congenital structural abnormalities and deform...</td>\n",
       "    </tr>\n",
       "  </tbody>\n",
       "</table>\n",
       "</div>"
      ],
      "text/plain": [
       "   node_index                      mondo_name  \\\n",
       "0       27158  osteogenesis imperfecta type 5   \n",
       "1       27158  osteogenesis imperfecta type 5   \n",
       "2       27158  osteogenesis imperfecta type 7   \n",
       "3       27158         osteogenesis imperfecta   \n",
       "4       27158         osteogenesis imperfecta   \n",
       "\n",
       "                                    mondo_definition  \\\n",
       "0  Osteogenesis imperfecta type V is a moderate t...   \n",
       "1  Osteogenesis imperfecta type V is a moderate t...   \n",
       "2  Any osteogenesis imperfecta in which the cause...   \n",
       "3  Osteogenesis imperfecta (OI) comprises a heter...   \n",
       "4  Osteogenesis imperfecta (OI) comprises a heter...   \n",
       "\n",
       "                                 orphanet_definition  \\\n",
       "0  A moderate form of osteogenesis imperfecta cha...   \n",
       "1  A moderate form of osteogenesis imperfecta cha...   \n",
       "2                                                NaN   \n",
       "3  Osteogenesis imperfecta (OI) comprises a heter...   \n",
       "4  Osteogenesis imperfecta (OI) comprises a heter...   \n",
       "\n",
       "                                    umls_description  \n",
       "0  Osteogenesis imperfecta is a genetic disorder ...  \n",
       "1  A group of usually autosomal dominant inherite...  \n",
       "2  collagen diseases characterized by brittle, os...  \n",
       "3  A group of inherited connective tissue disorde...  \n",
       "4  Congenital structural abnormalities and deform...  "
      ]
     },
     "execution_count": 27,
     "metadata": {},
     "output_type": "execute_result"
    }
   ],
   "source": [
    "df = pd.read_csv(\"D:/Lab/Research/EMERGE-REPLICATE/datasets/dataverse_files/disease_features.csv\", low_memory=False)\n",
    "\n",
    "df = df.sort_values(\"node_index\").reset_index(drop=True)\n",
    "\n",
    "missing_counts = df.isna().sum()\n",
    "print(missing_counts)\n",
    "\n",
    "df = df[[\"node_index\", \"mondo_name\", \"mondo_definition\", \"orphanet_definition\", \"umls_description\"]]\n",
    "\n",
    "df.head()"
   ]
  },
  {
   "cell_type": "code",
   "execution_count": 28,
   "id": "07021795",
   "metadata": {},
   "outputs": [],
   "source": [
    "out_path = \"D:/Lab/Research/EMERGE-REPLICATE/rag/curated_data/disease_features_cleaned.pkl\"\n",
    "with open(out_path, \"wb\") as f:\n",
    "    pickle.dump(df, f, protocol=pickle.HIGHEST_PROTOCOL)"
   ]
  }
 ],
 "metadata": {
  "kernelspec": {
   "display_name": ".venv",
   "language": "python",
   "name": "python3"
  },
  "language_info": {
   "codemirror_mode": {
    "name": "ipython",
    "version": 3
   },
   "file_extension": ".py",
   "mimetype": "text/x-python",
   "name": "python",
   "nbconvert_exporter": "python",
   "pygments_lexer": "ipython3",
   "version": "3.11.9"
  }
 },
 "nbformat": 4,
 "nbformat_minor": 5
}
